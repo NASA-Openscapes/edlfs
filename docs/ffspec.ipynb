{
 "cells": [
  {
   "cell_type": "markdown",
   "id": "b1a87561-ee35-41ac-a50f-928832ca0499",
   "metadata": {},
   "source": [
    "\n"
   ]
  },
  {
   "cell_type": "code",
   "execution_count": null,
   "id": "4f58a75d-c8cd-44d5-9e4b-b5b896cbbe77",
   "metadata": {},
   "outputs": [],
   "source": [
    "import logging\n",
    "\n",
    "import fsspec\n",
    "import requests\n",
    "import aiohttp\n",
    "import asyncio\n",
    "\n",
    "from getpass import getpass\n",
    "from requests.auth import HTTPBasicAuth\n",
    "from earthdata import Auth\n",
    "\n",
    "jar = aiohttp.CookieJar(unsafe=True)\n",
    "auth = Auth().login(strategy=\"interactive\")\n",
    "\n",
    "username = auth._credentials[0]\n",
    "password = auth._credentials[1]\n",
    "\n",
    "aio_auth = aiohttp.BasicAuth(login=username, password=password, encoding='utf-8')\n",
    "requests_auth = HTTPBasicAuth(username, password)"
   ]
  },
  {
   "cell_type": "code",
   "execution_count": null,
   "id": "3a0f4edf-9bcf-4a44-9d73-dfc0a942a4aa",
   "metadata": {},
   "outputs": [],
   "source": [
    "DAAC_CD_URLS = {\n",
    "    \"NSIDC\":  [\"https://data.nsidc.earthdatacloud.nasa.gov/nsidc-cumulus-prod-protected/ATLAS/ATL08/005/2018/10/14/ATL08_20181014001049_02350102_005_01.h5\",\n",
    "               \"https://n5eil01u.ecs.nsidc.org/DP7/ATLAS/ATL06.005/2018.10.14/ATL06_20181014051246_02380105_005_01.h5\"],\n",
    "    \"PODAAC\": [\"https://archive.podaac.earthdata.nasa.gov/podaac-ops-cumulus-protected/ECCO_L4_BOLUS_LLC0090GRID_MONTHLY_V4R4/OCEAN_BOLUS_VELOCITY_mon_mean_1992-03_ECCO_V4r4_native_llc0090.nc\"],\n",
    "    \"ASF\":    [\"https://datapool.asf.alaska.edu/L2.2/A3/ALPSRP279121600-P2.2_UA.zip\",\n",
    "               \"https://grfn.asf.alaska.edu/door/download/S1-GUNW-D-R-087-tops-20220607_20210606-161653-20312N_17970N-PP-22ed-v2_0_4.nc\"]\n",
    "}"
   ]
  },
  {
   "cell_type": "code",
   "execution_count": null,
   "id": "a7115539-bf86-4eb8-8408-8b823a77608c",
   "metadata": {},
   "outputs": [],
   "source": [
    "# aiohttp session\n",
    "aio_session = aiohttp.ClientSession(raise_for_status=True,\n",
    "                                    trust_env=True)\n",
    "\n",
    "# This is to debug OAuth using aiohttp, will return a signed url if it's a cloud-based collection\n",
    "async def get_signed_url_aiohttp(granule, method):\n",
    "    headers = {\"Range\": \"bytes=0-100\"}\n",
    "    async with aio_session.request(method,\n",
    "                                   granule,\n",
    "                                   headers=headers,\n",
    "                                   auth=aio_auth,\n",
    "                                   allow_redirects=False) as session_resp:\n",
    "        if session_resp.status > 300 and session_resp.status < 400:\n",
    "            # This is the initial redirect\n",
    "            redirect_url = session_resp.headers[\"Location\"]\n",
    "            print(\"Redirecting... \", session_resp.headers[\"Location\"])\n",
    "            print(\"---\"*20)\n",
    "            try:\n",
    "                async with aio_session.request(method,\n",
    "                                               redirect_url,\n",
    "                                               headers = headers,\n",
    "                                               auth = aio_auth,\n",
    "                                               allow_redirects=False) as redirect_response:\n",
    "                    # This is the answer from EDL\n",
    "                    print(\"Redirect response headers: \", redirect_response.headers)\n",
    "                    print(\"Cookies after first redirect: \", aio_session.cookie_jar._cookies)\n",
    "                    print(\"---\"*20)\n",
    "                    if redirect_response.status > 300 and redirect_response.status < 400:\n",
    "                        next_hop = redirect_response.headers[\"Location\"]\n",
    "                        try:\n",
    "                            async with aio_session.request(method,\n",
    "                                                           next_hop,\n",
    "                                                           auth = aio_auth,\n",
    "                                                           headers=headers,\n",
    "                                                           allow_redirects=False) as next_hop_resp:\n",
    "                                print(\"Next hop response headers: \", next_hop_resp.headers)\n",
    "                                print(\"Cookies after first redirect: \", aio_session.cookie_jar._cookies)\n",
    "                                print(\"---\"*20)\n",
    "                                if next_hop_resp.status > 300 and next_hop_resp.status < 400:\n",
    "                                    final_hop = next_hop_resp.headers[\"Location\"]\n",
    "                                    print(\"Next hop redirect: \", final_hop)\n",
    "                                    if final_hop.startswith(\"/\"):\n",
    "                                        final_hop = granule\n",
    "                                    try:\n",
    "                                        async with aio_session.request(method,\n",
    "                                                                       final_hop,\n",
    "                                                                       auth = aio_auth,\n",
    "                                                                       headers=headers,\n",
    "                                                                       allow_redirects=True) as last_hop_resp:\n",
    "                                            print(\"Last hop reponse: \", last_hop_resp.text)\n",
    "                                            return last_hop_resp.url\n",
    "                                    except Exception as e:\n",
    "                                        print(e.request_info)\n",
    "                                        return final_hop\n",
    "                                if next_hop_resp.status > 200 and next_hop_resp.status < 300:\n",
    "                                    print(next_hop_resp.text)\n",
    "                                    return final_hop\n",
    "                                if next_hop_resp.status > 400:\n",
    "                                    print (\"Ooops: \", next_hop_resp)\n",
    "                                return next_hop\n",
    "                        except Exception as e:\n",
    "                            print(e)\n",
    "                            return next_hop\n",
    "                    if redirect_response.status>200 and redirect_response.status < 300:\n",
    "                        return redirect_url\n",
    "                    else:\n",
    "                        return redirect_url\n",
    "            except Exception as e:\n",
    "                print(e.request_info)\n",
    "                return redirect_url\n",
    "        if session_resp.status > 200 and session_resp.status < 300:\n",
    "            print(\"No redirect \")\n",
    "            return session_resp.url"
   ]
  },
  {
   "cell_type": "code",
   "execution_count": null,
   "id": "094d362e-2642-4234-aeec-d0fd1496863e",
   "metadata": {},
   "outputs": [],
   "source": [
    "\n",
    "signed_url_aiohttp = await get_signed_url_aiohttp(DAAC_CD_URLS[\"NSIDC\"][1], \"GET\")\n",
    "# funny: HEAD requests bypass OAuth and gives us the location on S3 but an invalid signature.\n",
    "signed_url_aiohttp"
   ]
  },
  {
   "cell_type": "code",
   "execution_count": null,
   "id": "8fe1751a-ab7a-4975-88d1-8c7118e20fde",
   "metadata": {},
   "outputs": [],
   "source": [
    "# This is what edlfs should use eventually\n",
    "async def async_range_read(granule, bytes_offset):\n",
    "    headers = {\"Range\": f\"bytes={bytes_offset}\"}\n",
    "    # aio_session has the EDL session cookie so we can reuse it and even better copy it to Dask workers\n",
    "    async with aio_session.get(granule,\n",
    "                               headers=headers,\n",
    "                               allow_redirects=True) as resp:\n",
    "        buffer = b\"\"\n",
    "        async for data in resp.content.iter_chunked(1024):\n",
    "            buffer += data\n",
    "        return buffer\n",
    "\n",
    "data = await async_range_read(DAAC_CD_URLS[\"ASF\"][1], \"0-100\")\n",
    "data"
   ]
  },
  {
   "cell_type": "code",
   "execution_count": null,
   "id": "0792ee45-e92a-4b79-9ead-1ebfe9f34f76",
   "metadata": {},
   "outputs": [],
   "source": [
    "req_session = requests.Session()\n",
    "\n",
    "# earthdata session (requests with auth redirect)\n",
    "earthdata_session = auth.get_session()\n",
    "\n",
    "headers = {\"Range\": \"bytes=0-100\"}\n",
    "\n",
    "def get_signed_url_requests_simple(granule):\n",
    "    with req_session.head(granule, auth = requests_auth, allow_redirects=False, headers=headers) as r:\n",
    "        if r.status_code>300 and r.status_code < 400:\n",
    "            with req_session.head(r.headers[\"Location\"], auth=req_auth) as redirect_r:\n",
    "                print(redirect_r)\n",
    "                return redirect_r\n",
    "            \n",
    "def get_signed_url_requests_earthdata(granule):\n",
    "    with earthdata_session.get(granule, allow_redirects=False, headers=headers) as r:\n",
    "        if r.status_code>300 and r.status_code < 400:\n",
    "            with earthdata_session.head(r.headers[\"Location\"]) as redirect_r:\n",
    "                print(redirect_r)\n",
    "                return redirect_r\n",
    "        return r\n",
    "\n",
    "async def get_afs():\n",
    "    fs = fsspec.filesystem(\"https\",\n",
    "                           asynchronous=True)\n",
    "    session = await fs.set_session()  \n",
    "    return fs"
   ]
  },
  {
   "cell_type": "code",
   "execution_count": null,
   "id": "aaa851a4-a260-49be-ab8f-0ba8de7d43b8",
   "metadata": {},
   "outputs": [],
   "source": [
    "headers = {\"Range\": \"bytes=0-16\"}\n",
    "# If we don't have a .netrc this results in ACCESS DENIED because requests drops the auth for OAuth reqs\n",
    "with req_session.get(DAAC_CD_URLS[\"ASF\"][0], auth=requests_auth, headers=headers, allow_redirects=True) as r:\n",
    "    print(r.text, r)"
   ]
  },
  {
   "cell_type": "code",
   "execution_count": null,
   "id": "085aee66-e58c-4fe4-a574-83bfb48c0738",
   "metadata": {},
   "outputs": [],
   "source": [
    "# This works just fine, because earthdata session allows the Auth headers to persist the OAuth redirect\n",
    "headers = {\"Range\": \"bytes=0-16\"}\n",
    "with earthdata_session.get(DAAC_CD_URLS[\"NSIDC\"][0], headers=headers) as r:\n",
    "    signed_url = r.request.url\n",
    "    print(r.text)"
   ]
  },
  {
   "cell_type": "code",
   "execution_count": null,
   "id": "3277a95c-ef22-4c61-97ad-bcd47e38aebd",
   "metadata": {},
   "outputs": [],
   "source": [
    "headers = {\"Range\": \"bytes=0-100\"}\n",
    "# Once we have the signed url we don't need anything else, the auth is in the URL itself so we can use plain requests \n",
    "with requests.get(signed_url, allow_redirects=True, headers=headers) as r:\n",
    "    print(r.text)"
   ]
  },
  {
   "cell_type": "code",
   "execution_count": null,
   "id": "07a33756-86a1-454d-aaa7-82a052890f67",
   "metadata": {},
   "outputs": [],
   "source": [
    "# Now with fsspec sync, the default way of doing things with xarray\n",
    "sync_fs = fsspec.filesystem(\"https\",\n",
    "                            asynchronous=False)\n",
    "sync_fs"
   ]
  },
  {
   "cell_type": "code",
   "execution_count": null,
   "id": "7e0d2e80-71fd-4ca7-baec-b6676459d71f",
   "metadata": {},
   "outputs": [],
   "source": [
    "# This works, we get the file and it's really fast for one file\n",
    "sync_fs.get(signed_url, \"test-2.nc\")"
   ]
  },
  {
   "cell_type": "code",
   "execution_count": null,
   "id": "8f68675f-371b-4137-a5d3-ad6bac88af9c",
   "metadata": {},
   "outputs": [],
   "source": [
    "%%time\n",
    "# Open is not as fast, xarray issues a ton of requests\n",
    "import xarray as xr\n",
    "file_like_object = sync_fs.open(signed_url)\n",
    "logging.basicConfig(level=logging.DEBUG)\n",
    "# logging.basicConfig(level=logging.DEBUG)\n",
    "ds = xr.open_dataset(file_like_object, engine=\"h5netcdf\", chunks=\"auto\", cache=False)  \n",
    "ds"
   ]
  },
  {
   "cell_type": "code",
   "execution_count": null,
   "id": "513d0968-c62c-42e8-9fad-962587de2bc0",
   "metadata": {},
   "outputs": [],
   "source": [
    "# Let's try async\n",
    "async_fs = await get_afs()\n",
    "file_like_object_async = await async_fs.open_async(signed_url)\n",
    "file_like_object_async"
   ]
  },
  {
   "cell_type": "code",
   "execution_count": null,
   "id": "e0fa343b-1d5b-4709-86b6-9996fec4023a",
   "metadata": {},
   "outputs": [],
   "source": [
    "# this also works, not faster than the sync approach but some benchmarking is needed\n",
    "await async_fs._get(signed_url, \"test-async.nc\")"
   ]
  },
  {
   "cell_type": "code",
   "execution_count": null,
   "id": "2934c2e0-e0cd-49f2-8535-d20487b988c0",
   "metadata": {},
   "outputs": [],
   "source": [
    "%%time\n",
    "\n",
    "logging.basicConfig(level=logging.DEBUG)\n",
    "\n",
    "import xarray as xr\n",
    "# it issues like dozens of requests, tried with chunks=-1 and the same thing happens\n",
    "file_like_object = sync_fs.open(signed_url)\n",
    "logging.basicConfig(level=logging.DEBUG)\n",
    "# logging.basicConfig(level=logging.DEBUG)\n",
    "ds = xr.open_dataset(file_like_object, engine=\"h5netcdf\", chunks=-1, cache=False)  \n",
    "ds"
   ]
  },
  {
   "cell_type": "code",
   "execution_count": null,
   "id": "d35e6933-76ce-48c9-a4fc-83affc2e0205",
   "metadata": {},
   "outputs": [],
   "source": [
    "file_async = await async_fs.open_async(signed_url)\n",
    "\n",
    "print(type(file_async))\n",
    "\n",
    "# Does not work out of the box with fsspec async! \n",
    "ds = xr.open_dataset(file_async, engine=\"h5netcdf\")\n",
    "ds"
   ]
  }
 ],
 "metadata": {
  "kernelspec": {
   "display_name": "Python 3 (ipykernel)",
   "language": "python",
   "name": "python3"
  },
  "language_info": {
   "codemirror_mode": {
    "name": "ipython",
    "version": 3
   },
   "file_extension": ".py",
   "mimetype": "text/x-python",
   "name": "python",
   "nbconvert_exporter": "python",
   "pygments_lexer": "ipython3",
   "version": "3.9.13"
  }
 },
 "nbformat": 4,
 "nbformat_minor": 5
}
